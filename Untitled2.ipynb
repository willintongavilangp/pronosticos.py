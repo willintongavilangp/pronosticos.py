{
  "nbformat": 4,
  "nbformat_minor": 0,
  "metadata": {
    "colab": {
      "provenance": [],
      "authorship_tag": "ABX9TyOw2uGGiYtbHe3TLdSA0uHh",
      "include_colab_link": true
    },
    "kernelspec": {
      "name": "python3",
      "display_name": "Python 3"
    },
    "language_info": {
      "name": "python"
    }
  },
  "cells": [
    {
      "cell_type": "markdown",
      "metadata": {
        "id": "view-in-github",
        "colab_type": "text"
      },
      "source": [
        "<a href=\"https://colab.research.google.com/github/willintongavilangp/pronosticos.py/blob/main/Untitled2.ipynb\" target=\"_parent\"><img src=\"https://colab.research.google.com/assets/colab-badge.svg\" alt=\"Open In Colab\"/></a>"
      ]
    },
    {
      "cell_type": "code",
      "execution_count": 1,
      "metadata": {
        "id": "838vvvuxKzGn"
      },
      "outputs": [],
      "source": [
        "import matplotlib.pyplot as plt\n",
        "import ipywidgets as widgets\n",
        "from IPython.display import display\n",
        "from functools import partial"
      ]
    },
    {
      "cell_type": "code",
      "source": [
        "#datos iniciales\n",
        "\n",
        "meses = ['Enero' , 'Febrero' , 'Marzo' , 'Abril' , 'Mayo']\n",
        "semanas = [[1, 2, 3, 4], [5, 6, 7, 8], [9, 10, 11, 12], [13, 14, 15, 16], [17, 18, 19, 20]]\n",
        "ventas_reales = [15000, 18000, 22000, 21000, 24000]\n",
        "ventas_pronosticadas = [16000, 17000, 20000, 19000, 23000]"
      ],
      "metadata": {
        "id": "KOoGi3wQLWrx"
      },
      "execution_count": 2,
      "outputs": []
    },
    {
      "cell_type": "code",
      "source": [
        "#actualizar grafico\n",
        "\n",
        "\n",
        "def update_grafico(mes, semana, ventas_nuevas):\n",
        "  mes_idx = mes.index(mes)\n",
        "  semana_idx = semana-1\n",
        "  plt.clf()\n",
        "  plt.plot(semanas[mes_idx], ventas_reales[mes_idx], marker='0', label='Ventas Reales', color='green')\n",
        "  plt.plot(semanas[mes_idx], ventas_nuevas, marker='x', label='Ventas Pronosticadas', color='blue')\n",
        "  plt.title(f'Pronosticos de Ventas - {meses[mes_idx]}')\n",
        "  plt.ylabel('Semanas')\n",
        "  plt.ylabel('Ventas')\n",
        "  plt.legend()\n",
        "  plt.grid(True)\n",
        "  plt.show()\n",
        "\n",
        "#crear widgets interactivos\n",
        "\n",
        "mes_selector = widgets.Dropdown(options=meses, description='Mes:')\n",
        "semana_selector = widgets.IntSlider(min=1, max=4, value=1, description='Semana:')\n",
        "pronosticos_input = widgets.IntText(value=ventas_pronosticadas[0], description='Ventas Pronosticadas:')\n",
        "\n",
        "def update_semana_selector(change):\n",
        "    mes_idx = meses.index(mes_selector.value)\n",
        "    semana_selector.max = len(semanas[mes_idx])\n",
        "\n",
        "update_semana = partial(update_semana_selector)\n",
        "mes_selector.observe(update_semana, names='value')\n",
        "\n",
        "widgets.interactive(update_grafico, mes_idx=widgets.fixed(0), semana=semana_selector, ventas_nuevas=pronosticos_input)\n",
        "\n",
        "display(widgets.HBox([mes_selector, semana_selector]))\n",
        "display(pronosticos_input)"
      ],
      "metadata": {
        "id": "yPWPB_FfmW3u"
      },
      "execution_count": null,
      "outputs": []
    }
  ]
}